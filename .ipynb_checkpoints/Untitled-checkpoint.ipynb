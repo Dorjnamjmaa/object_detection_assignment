{
 "cells": [
  {
   "cell_type": "code",
   "execution_count": 5,
   "id": "1899d091-3537-4075-ab1c-321134fc6634",
   "metadata": {},
   "outputs": [
    {
     "name": "stdout",
     "output_type": "stream",
     "text": [
      "682\n"
     ]
    }
   ],
   "source": [
    "import os\n",
    "import shutil\n",
    "import random\n",
    "\n",
    "def split_dataset_with_labels(images_dir, labels_dir, output_dir, train_ratio=0.7, val_ratio=0.15, test_ratio=0.15):\n",
    "    assert train_ratio + val_ratio + test_ratio == 1, \"Ratios must sum to 1.\"\n",
    "    \n",
    "    # List all image files (supporting .jpg and .png)\n",
    "    image_files = [f for f in os.listdir(images_dir) if f.endswith(('.JPG','.JPEG','.PNG','.jpg', '.png'))]\n",
    "    random.shuffle(image_files)\n",
    "    print(len(image_files))\n",
    "    \n",
    "    # Calculate split sizes\n",
    "    train_count = int(len(image_files) * train_ratio)\n",
    "    val_count = int(len(image_files) * val_ratio)\n",
    "    \n",
    "    train_images = image_files[:train_count]\n",
    "    val_images = image_files[train_count:train_count + val_count]\n",
    "    test_images = image_files[train_count + val_count:]\n",
    "\n",
    "    # Split datasets and copy files\n",
    "    for split_name, split_images in zip(\n",
    "        ['train', 'val', 'test'], [train_images, val_images, test_images]\n",
    "    ):\n",
    "        # Create output directories\n",
    "        split_images_dir = os.path.join(output_dir, split_name, 'images')\n",
    "        split_labels_dir = os.path.join(output_dir, split_name, 'labels')\n",
    "        os.makedirs(split_images_dir, exist_ok=True)\n",
    "        os.makedirs(split_labels_dir, exist_ok=True)\n",
    "        \n",
    "        for image_file in split_images:\n",
    "            # Copy image\n",
    "            src_image = os.path.join(images_dir, image_file)\n",
    "            dest_image = os.path.join(split_images_dir, image_file)\n",
    "            shutil.copy(src_image, dest_image)\n",
    "            \n",
    "            # Copy corresponding label\n",
    "            label_file = os.path.splitext(image_file)[0] + \".txt\"  # Match the image name with .txt extension\n",
    "            src_label = os.path.join(labels_dir, label_file)\n",
    "            dest_label = os.path.join(split_labels_dir, label_file)\n",
    "            \n",
    "            if os.path.exists(src_label):  # Ensure the label file exists\n",
    "                shutil.copy(src_label, dest_label)\n",
    "\n",
    "# Define paths\n",
    "images_dir = \"C:\\\\Users\\\\Lenovo\\\\Documents\\\\yolo\\\\dataset\\\\images\"\n",
    "labels_dir = \"C:\\\\Users\\\\Lenovo\\\\Documents\\\\yolo\\\\dataset\\\\labels\"  \n",
    "output_dir = \"C:\\\\Users\\\\Lenovo\\\\Documents\\\\yolomodel\\\\dataset\"\n",
    "\n",
    "# Call the function\n",
    "split_dataset_with_labels(images_dir, labels_dir, output_dir)\n"
   ]
  },
  {
   "cell_type": "code",
   "execution_count": null,
   "id": "b4478cce-5bbe-435a-b2fe-07e67d46cee7",
   "metadata": {},
   "outputs": [],
   "source": []
  }
 ],
 "metadata": {
  "kernelspec": {
   "display_name": "Python 3 (ipykernel)",
   "language": "python",
   "name": "python3"
  },
  "language_info": {
   "codemirror_mode": {
    "name": "ipython",
    "version": 3
   },
   "file_extension": ".py",
   "mimetype": "text/x-python",
   "name": "python",
   "nbconvert_exporter": "python",
   "pygments_lexer": "ipython3",
   "version": "3.8.20"
  }
 },
 "nbformat": 4,
 "nbformat_minor": 5
}
